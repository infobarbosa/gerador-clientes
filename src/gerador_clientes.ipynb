{
 "cells": [
  {
   "cell_type": "code",
   "execution_count": 1,
   "metadata": {},
   "outputs": [
    {
     "name": "stdout",
     "output_type": "stream",
     "text": [
      "Defaulting to user installation because normal site-packages is not writeable\n",
      "Requirement already satisfied: pandas in /home/barbosa/.local/lib/python3.10/site-packages (2.1.1)\n",
      "Requirement already satisfied: pyarrow in /home/barbosa/.local/lib/python3.10/site-packages (13.0.0)\n",
      "Requirement already satisfied: numpy>=1.22.4 in /home/barbosa/.local/lib/python3.10/site-packages (from pandas) (1.26.0)\n",
      "Requirement already satisfied: python-dateutil>=2.8.2 in /home/barbosa/.local/lib/python3.10/site-packages (from pandas) (2.8.2)\n",
      "Requirement already satisfied: pytz>=2020.1 in /home/barbosa/.local/lib/python3.10/site-packages (from pandas) (2023.3.post1)\n",
      "Requirement already satisfied: tzdata>=2022.1 in /home/barbosa/.local/lib/python3.10/site-packages (from pandas) (2023.3)\n",
      "Requirement already satisfied: six>=1.5 in /usr/lib/python3/dist-packages (from python-dateutil>=2.8.2->pandas) (1.16.0)\n"
     ]
    }
   ],
   "source": [
    "! pip install pandas pyarrow"
   ]
  },
  {
   "cell_type": "code",
   "execution_count": 9,
   "metadata": {},
   "outputs": [],
   "source": [
    "import csv\n",
    "import pandas as pd\n",
    "import random\n",
    "from faker import Faker\n",
    "import unidecode"
   ]
  },
  {
   "cell_type": "code",
   "execution_count": 10,
   "metadata": {},
   "outputs": [],
   "source": [
    "\n",
    "fake = Faker('pt_BR')\n",
    "\n",
    "def gera_nome_unico(lista_de_nomes):\n",
    "    while True:\n",
    "        nome = fake.first_name() + \" \" + fake.last_name()\n",
    "        if nome not in lista_de_nomes:\n",
    "            return nome\n",
    "\n",
    "def gera_cliente_aleatorio(id, lista_de_nomes):\n",
    "    nome = gera_nome_unico(lista_de_nomes)\n",
    "    data_nasc = fake.date_of_birth(minimum_age=18, maximum_age=90)\n",
    "    cpf = fake.cpf()\n",
    "    email = unidecode.unidecode((nome.replace(\" \", \".\") + \"@example.com\").lower())\n",
    "\n",
    "    return [id, nome, data_nasc, cpf, email]\n",
    "\n",
    "def write_to_csv(data):\n",
    "    with open('clientes.csv', 'a', newline='') as file:\n",
    "        writer = csv.writer(file)\n",
    "        writer.writerow(data)\n"
   ]
  },
  {
   "cell_type": "code",
   "execution_count": null,
   "metadata": {},
   "outputs": [],
   "source": [
    "lista_de_nomes = set()\n",
    "for id in range(14000):  # Generate 14000 clients\n",
    "    client_data = gera_cliente_aleatorio(id, lista_de_nomes)\n",
    "    lista_de_nomes.add(client_data[1])\n",
    "    write_to_csv(client_data)"
   ]
  },
  {
   "cell_type": "code",
   "execution_count": 6,
   "metadata": {},
   "outputs": [],
   "source": [
    "df = pd.DataFrame()"
   ]
  },
  {
   "cell_type": "code",
   "execution_count": 20,
   "metadata": {},
   "outputs": [],
   "source": [
    "df = pd.DataFrame(columns=['id', 'nome', 'data_nasc', 'cpf', 'email'])\n",
    "existing_names = set()\n",
    "for id in range(1,14001):  # Generate 14000 clients\n",
    "    cliente = gera_cliente_aleatorio(id, existing_names)\n",
    "    existing_names.add(cliente[1])\n",
    "    linha = {'id': cliente[0], 'nome': cliente[1], 'data_nasc': cliente[2], 'cpf': cliente[3], 'email': cliente[4]}\n",
    "    #print(linha)\n",
    "    df = pd.concat([df, pd.DataFrame([linha])], ignore_index=True)"
   ]
  },
  {
   "cell_type": "code",
   "execution_count": 21,
   "metadata": {},
   "outputs": [
    {
     "data": {
      "text/html": [
       "<div>\n",
       "<style scoped>\n",
       "    .dataframe tbody tr th:only-of-type {\n",
       "        vertical-align: middle;\n",
       "    }\n",
       "\n",
       "    .dataframe tbody tr th {\n",
       "        vertical-align: top;\n",
       "    }\n",
       "\n",
       "    .dataframe thead th {\n",
       "        text-align: right;\n",
       "    }\n",
       "</style>\n",
       "<table border=\"1\" class=\"dataframe\">\n",
       "  <thead>\n",
       "    <tr style=\"text-align: right;\">\n",
       "      <th></th>\n",
       "      <th>id</th>\n",
       "      <th>nome</th>\n",
       "      <th>data_nasc</th>\n",
       "      <th>cpf</th>\n",
       "      <th>email</th>\n",
       "    </tr>\n",
       "  </thead>\n",
       "  <tbody>\n",
       "    <tr>\n",
       "      <th>0</th>\n",
       "      <td>1</td>\n",
       "      <td>Isabelly Barbosa</td>\n",
       "      <td>1963-08-15</td>\n",
       "      <td>137.064.289-03</td>\n",
       "      <td>isabelly.barbosa@example.com</td>\n",
       "    </tr>\n",
       "    <tr>\n",
       "      <th>1</th>\n",
       "      <td>2</td>\n",
       "      <td>Larissa Fogaça</td>\n",
       "      <td>1933-09-29</td>\n",
       "      <td>703.685.294-10</td>\n",
       "      <td>larissa.fogaca@example.com</td>\n",
       "    </tr>\n",
       "    <tr>\n",
       "      <th>2</th>\n",
       "      <td>3</td>\n",
       "      <td>João Gabriel Silveira</td>\n",
       "      <td>1958-05-27</td>\n",
       "      <td>520.179.643-52</td>\n",
       "      <td>joao.gabriel.silveira@example.com</td>\n",
       "    </tr>\n",
       "    <tr>\n",
       "      <th>3</th>\n",
       "      <td>4</td>\n",
       "      <td>Pedro Lucas Nascimento</td>\n",
       "      <td>1950-08-23</td>\n",
       "      <td>274.351.896-00</td>\n",
       "      <td>pedro.lucas.nascimento@example.com</td>\n",
       "    </tr>\n",
       "    <tr>\n",
       "      <th>4</th>\n",
       "      <td>5</td>\n",
       "      <td>Felipe Azevedo</td>\n",
       "      <td>1986-12-31</td>\n",
       "      <td>759.061.842-01</td>\n",
       "      <td>felipe.azevedo@example.com</td>\n",
       "    </tr>\n",
       "  </tbody>\n",
       "</table>\n",
       "</div>"
      ],
      "text/plain": [
       "  id                    nome   data_nasc             cpf  \\\n",
       "0  1        Isabelly Barbosa  1963-08-15  137.064.289-03   \n",
       "1  2          Larissa Fogaça  1933-09-29  703.685.294-10   \n",
       "2  3   João Gabriel Silveira  1958-05-27  520.179.643-52   \n",
       "3  4  Pedro Lucas Nascimento  1950-08-23  274.351.896-00   \n",
       "4  5          Felipe Azevedo  1986-12-31  759.061.842-01   \n",
       "\n",
       "                                email  \n",
       "0        isabelly.barbosa@example.com  \n",
       "1          larissa.fogaca@example.com  \n",
       "2   joao.gabriel.silveira@example.com  \n",
       "3  pedro.lucas.nascimento@example.com  \n",
       "4          felipe.azevedo@example.com  "
      ]
     },
     "execution_count": 21,
     "metadata": {},
     "output_type": "execute_result"
    }
   ],
   "source": [
    "df.head()"
   ]
  },
  {
   "cell_type": "code",
   "execution_count": 22,
   "metadata": {},
   "outputs": [
    {
     "data": {
      "text/plain": [
       "id           14000\n",
       "nome         14000\n",
       "data_nasc    14000\n",
       "cpf          14000\n",
       "email        14000\n",
       "dtype: int64"
      ]
     },
     "execution_count": 22,
     "metadata": {},
     "output_type": "execute_result"
    }
   ],
   "source": [
    "df.count()"
   ]
  },
  {
   "cell_type": "code",
   "execution_count": 23,
   "metadata": {},
   "outputs": [
    {
     "data": {
      "text/html": [
       "<div>\n",
       "<style scoped>\n",
       "    .dataframe tbody tr th:only-of-type {\n",
       "        vertical-align: middle;\n",
       "    }\n",
       "\n",
       "    .dataframe tbody tr th {\n",
       "        vertical-align: top;\n",
       "    }\n",
       "\n",
       "    .dataframe thead th {\n",
       "        text-align: right;\n",
       "    }\n",
       "</style>\n",
       "<table border=\"1\" class=\"dataframe\">\n",
       "  <thead>\n",
       "    <tr style=\"text-align: right;\">\n",
       "      <th></th>\n",
       "      <th>id</th>\n",
       "      <th>nome</th>\n",
       "      <th>data_nasc</th>\n",
       "      <th>cpf</th>\n",
       "      <th>email</th>\n",
       "    </tr>\n",
       "  </thead>\n",
       "  <tbody>\n",
       "    <tr>\n",
       "      <th>13995</th>\n",
       "      <td>13996</td>\n",
       "      <td>Noah Caldeira</td>\n",
       "      <td>1947-11-18</td>\n",
       "      <td>649.701.582-58</td>\n",
       "      <td>noah.caldeira@example.com</td>\n",
       "    </tr>\n",
       "    <tr>\n",
       "      <th>13996</th>\n",
       "      <td>13997</td>\n",
       "      <td>Anthony Lima</td>\n",
       "      <td>1983-05-25</td>\n",
       "      <td>786.903.415-01</td>\n",
       "      <td>anthony.lima@example.com</td>\n",
       "    </tr>\n",
       "    <tr>\n",
       "      <th>13997</th>\n",
       "      <td>13998</td>\n",
       "      <td>Raquel Moura</td>\n",
       "      <td>1982-04-12</td>\n",
       "      <td>819.435.672-55</td>\n",
       "      <td>raquel.moura@example.com</td>\n",
       "    </tr>\n",
       "    <tr>\n",
       "      <th>13998</th>\n",
       "      <td>13999</td>\n",
       "      <td>Esther Correia</td>\n",
       "      <td>1995-12-01</td>\n",
       "      <td>734.908.126-03</td>\n",
       "      <td>esther.correia@example.com</td>\n",
       "    </tr>\n",
       "    <tr>\n",
       "      <th>13999</th>\n",
       "      <td>14000</td>\n",
       "      <td>João Gabriel Lopes</td>\n",
       "      <td>1989-04-30</td>\n",
       "      <td>743.690.152-43</td>\n",
       "      <td>joao.gabriel.lopes@example.com</td>\n",
       "    </tr>\n",
       "  </tbody>\n",
       "</table>\n",
       "</div>"
      ],
      "text/plain": [
       "          id                nome   data_nasc             cpf  \\\n",
       "13995  13996       Noah Caldeira  1947-11-18  649.701.582-58   \n",
       "13996  13997        Anthony Lima  1983-05-25  786.903.415-01   \n",
       "13997  13998        Raquel Moura  1982-04-12  819.435.672-55   \n",
       "13998  13999      Esther Correia  1995-12-01  734.908.126-03   \n",
       "13999  14000  João Gabriel Lopes  1989-04-30  743.690.152-43   \n",
       "\n",
       "                                email  \n",
       "13995       noah.caldeira@example.com  \n",
       "13996        anthony.lima@example.com  \n",
       "13997        raquel.moura@example.com  \n",
       "13998      esther.correia@example.com  \n",
       "13999  joao.gabriel.lopes@example.com  "
      ]
     },
     "execution_count": 23,
     "metadata": {},
     "output_type": "execute_result"
    }
   ],
   "source": [
    "df.tail()"
   ]
  },
  {
   "cell_type": "code",
   "execution_count": 24,
   "metadata": {},
   "outputs": [],
   "source": [
    "df.to_csv(\"./clientes.csv.gz\", sep=';', header=True, index=False, mode='w', encoding='UTF-8', quoting=None, quotechar='\"', doublequote=True, compression='gzip', chunksize=10000)\n"
   ]
  },
  {
   "cell_type": "code",
   "execution_count": null,
   "metadata": {},
   "outputs": [],
   "source": []
  }
 ],
 "metadata": {
  "kernelspec": {
   "display_name": "Python 3",
   "language": "python",
   "name": "python3"
  },
  "language_info": {
   "codemirror_mode": {
    "name": "ipython",
    "version": 3
   },
   "file_extension": ".py",
   "mimetype": "text/x-python",
   "name": "python",
   "nbconvert_exporter": "python",
   "pygments_lexer": "ipython3",
   "version": "3.10.12"
  }
 },
 "nbformat": 4,
 "nbformat_minor": 2
}
